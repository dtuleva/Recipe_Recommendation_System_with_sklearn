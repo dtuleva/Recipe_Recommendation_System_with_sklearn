{
 "cells": [
  {
   "cell_type": "code",
   "execution_count": 1,
   "id": "962cdf76-7ba9-4ecf-a612-b6f4b7b39674",
   "metadata": {},
   "outputs": [],
   "source": [
    "%matplotlib inline"
   ]
  },
  {
   "cell_type": "code",
   "execution_count": 2,
   "id": "145cf25e-ab58-43d5-8f8c-2f48dae24ae9",
   "metadata": {},
   "outputs": [],
   "source": [
    "import numpy as np\n",
    "import pandas as pd\n",
    "import matplotlib.pyplot as plt\n",
    "\n",
    "from collections import Counter\n",
    "import ast"
   ]
  },
  {
   "cell_type": "markdown",
   "id": "077becef-6b74-40f6-886a-efbda29fc24f",
   "metadata": {},
   "source": [
    "# Recipe Reccomendation System with sklearn\n",
    "## part 2: EDA of RecipeNLG dataset"
   ]
  },
  {
   "cell_type": "code",
   "execution_count": 3,
   "id": "16892c68-785b-4a78-808b-76b31752b1c0",
   "metadata": {},
   "outputs": [],
   "source": [
    "# Prints first n values from specified column in a pd.DataFrame   \n",
    "def print_values_in_first_n_rows(dataset, column_name, n = 5, is_list = False):\n",
    "    for row, column_value in enumerate(dataset[column_name]):\n",
    "        if is_list:\n",
    "            print(*column_value, sep=\", \")\n",
    "        else:\n",
    "            print(column_value)\n",
    "        print()\n",
    "        if row >= n - 1:\n",
    "            break\n",
    "\n",
    "# Returns flattened list of all item occurrences (lowercase) from specified column in a pd.DataFrame \n",
    "# Assumes initial values in the column are of type list\n",
    "def item_occurences_lst(dataset, column_name):\n",
    "    result = dataset[column_name][dataset[column_name].notna()] # Series of valid list values\n",
    "    result = [item.lower() for item_list in result for item in item_list]\n",
    "    return result"
   ]
  },
  {
   "cell_type": "code",
   "execution_count": null,
   "id": "2715476c-67bf-45c1-b50f-13ff17318b3b",
   "metadata": {},
   "outputs": [],
   "source": []
  },
  {
   "cell_type": "code",
   "execution_count": null,
   "id": "cce86213-c0e3-4ed4-ab62-9bf385218a9c",
   "metadata": {},
   "outputs": [],
   "source": []
  },
  {
   "cell_type": "code",
   "execution_count": 4,
   "id": "09b80bcc-cdd3-4fc6-b487-d1e7be43f0e3",
   "metadata": {},
   "outputs": [],
   "source": [
    "recipes_nlg = pd.read_csv(\n",
    "    \"data/RecipeNGL/full_dataset.csv\", \n",
    "    # nrows=10, \n",
    "    index_col=0)"
   ]
  },
  {
   "cell_type": "code",
   "execution_count": 5,
   "id": "f3145d42-2005-445a-a13a-51af7f6ebdd8",
   "metadata": {},
   "outputs": [],
   "source": [
    "recipes_nlg[\"site\"] = recipes_nlg.link.str.split(\"/\").apply(lambda x: x[0])"
   ]
  },
  {
   "cell_type": "code",
   "execution_count": 6,
   "id": "eb821bb1-81d4-41ca-bd07-35fff3d92cd9",
   "metadata": {},
   "outputs": [
    {
     "data": {
      "text/plain": [
       "site\n",
       "www.cookbooks.com          896341\n",
       "www.food.com               499616\n",
       "www.epicurious.com         129444\n",
       "tastykitchen.com            78768\n",
       "www.myrecipes.com           64895\n",
       "www.allrecipes.com          61398\n",
       "cookpad.com                 61020\n",
       "cookeatshare.com            59307\n",
       "www.yummly.com              51963\n",
       "www.tasteofhome.com         51594\n",
       "www.foodnetwork.com         49443\n",
       "food52.com                  48501\n",
       "www.kraftrecipes.com        42010\n",
       "recipeland.com              24418\n",
       "recipes-plus.com            20524\n",
       "cooking.nytimes.com         16367\n",
       "www.foodandwine.com         15436\n",
       "www.seriouseats.com         12632\n",
       "www.foodgeeks.com            8963\n",
       "www.cookstr.com              8797\n",
       "online-cookbook.com          5691\n",
       "www.chowhound.com            5671\n",
       "www.vegetariantimes.com      4578\n",
       "www.delish.com               3880\n",
       "allrecipes.com               3204\n",
       "www.landolakes.com           2492\n",
       "www.foodrepublic.com         2259\n",
       "www.lovefood.com             1930\n",
       "Name: count, dtype: int64"
      ]
     },
     "execution_count": 6,
     "metadata": {},
     "output_type": "execute_result"
    }
   ],
   "source": [
    "recipes_nlg.site.value_counts()"
   ]
  },
  {
   "cell_type": "code",
   "execution_count": 7,
   "id": "1d7e5c83-aee7-4e2f-a443-7a0885dad2a5",
   "metadata": {},
   "outputs": [],
   "source": [
    "recipes_nlg.NER = recipes_nlg.NER.apply(ast.literal_eval)"
   ]
  },
  {
   "cell_type": "code",
   "execution_count": 8,
   "id": "98effaca-00f9-4608-8f18-3fbb7c72b60f",
   "metadata": {},
   "outputs": [],
   "source": [
    "ingredients_list = item_occurences_lst(recipes_nlg, \"NER\")\n",
    "ingredients_counter = Counter(ingredients_list)"
   ]
  },
  {
   "cell_type": "code",
   "execution_count": 9,
   "id": "106cbf72-d1f9-4eec-a9da-24b6bd0b4156",
   "metadata": {},
   "outputs": [
    {
     "data": {
      "text/plain": [
       "199060"
      ]
     },
     "execution_count": 9,
     "metadata": {},
     "output_type": "execute_result"
    }
   ],
   "source": [
    "len(ingredients_counter)"
   ]
  },
  {
   "cell_type": "code",
   "execution_count": 10,
   "id": "2c335ce6-6874-4e0e-9949-bc01dcff1973",
   "metadata": {},
   "outputs": [
    {
     "data": {
      "text/plain": [
       "[('salt', 1013708),\n",
       " ('sugar', 662832),\n",
       " ('butter', 539978),\n",
       " ('flour', 488086),\n",
       " ('eggs', 422212),\n",
       " ('onion', 391268),\n",
       " ('garlic', 388187),\n",
       " ('milk', 370285),\n",
       " ('water', 351248),\n",
       " ('vanilla', 293879)]"
      ]
     },
     "execution_count": 10,
     "metadata": {},
     "output_type": "execute_result"
    }
   ],
   "source": [
    "ingredients_counter.most_common(10)"
   ]
  },
  {
   "cell_type": "markdown",
   "id": "7d113336-bf6d-429a-98f4-ef90ce5843da",
   "metadata": {},
   "source": [
    "Make a dataframe from most common"
   ]
  },
  {
   "cell_type": "code",
   "execution_count": 11,
   "id": "bc0cf181-491f-4e1e-906d-19fbd40f8799",
   "metadata": {},
   "outputs": [],
   "source": [
    "ingredients = pd.DataFrame(ingredients_counter.most_common(), columns = [\"ingredient\", \"occurences\"])"
   ]
  },
  {
   "cell_type": "code",
   "execution_count": 12,
   "id": "1ea38532-c67b-487f-97d9-aa8dc67eb2b0",
   "metadata": {},
   "outputs": [
    {
     "data": {
      "text/html": [
       "<div>\n",
       "<style scoped>\n",
       "    .dataframe tbody tr th:only-of-type {\n",
       "        vertical-align: middle;\n",
       "    }\n",
       "\n",
       "    .dataframe tbody tr th {\n",
       "        vertical-align: top;\n",
       "    }\n",
       "\n",
       "    .dataframe thead th {\n",
       "        text-align: right;\n",
       "    }\n",
       "</style>\n",
       "<table border=\"1\" class=\"dataframe\">\n",
       "  <thead>\n",
       "    <tr style=\"text-align: right;\">\n",
       "      <th></th>\n",
       "      <th>ingredient</th>\n",
       "      <th>occurences</th>\n",
       "    </tr>\n",
       "  </thead>\n",
       "  <tbody>\n",
       "    <tr>\n",
       "      <th>0</th>\n",
       "      <td>salt</td>\n",
       "      <td>1013708</td>\n",
       "    </tr>\n",
       "    <tr>\n",
       "      <th>1</th>\n",
       "      <td>sugar</td>\n",
       "      <td>662832</td>\n",
       "    </tr>\n",
       "    <tr>\n",
       "      <th>2</th>\n",
       "      <td>butter</td>\n",
       "      <td>539978</td>\n",
       "    </tr>\n",
       "    <tr>\n",
       "      <th>3</th>\n",
       "      <td>flour</td>\n",
       "      <td>488086</td>\n",
       "    </tr>\n",
       "    <tr>\n",
       "      <th>4</th>\n",
       "      <td>eggs</td>\n",
       "      <td>422212</td>\n",
       "    </tr>\n",
       "    <tr>\n",
       "      <th>5</th>\n",
       "      <td>onion</td>\n",
       "      <td>391268</td>\n",
       "    </tr>\n",
       "    <tr>\n",
       "      <th>6</th>\n",
       "      <td>garlic</td>\n",
       "      <td>388187</td>\n",
       "    </tr>\n",
       "    <tr>\n",
       "      <th>7</th>\n",
       "      <td>milk</td>\n",
       "      <td>370285</td>\n",
       "    </tr>\n",
       "    <tr>\n",
       "      <th>8</th>\n",
       "      <td>water</td>\n",
       "      <td>351248</td>\n",
       "    </tr>\n",
       "    <tr>\n",
       "      <th>9</th>\n",
       "      <td>vanilla</td>\n",
       "      <td>293879</td>\n",
       "    </tr>\n",
       "    <tr>\n",
       "      <th>10</th>\n",
       "      <td>olive oil</td>\n",
       "      <td>227383</td>\n",
       "    </tr>\n",
       "    <tr>\n",
       "      <th>11</th>\n",
       "      <td>pepper</td>\n",
       "      <td>193383</td>\n",
       "    </tr>\n",
       "    <tr>\n",
       "      <th>12</th>\n",
       "      <td>brown sugar</td>\n",
       "      <td>187092</td>\n",
       "    </tr>\n",
       "    <tr>\n",
       "      <th>13</th>\n",
       "      <td>egg</td>\n",
       "      <td>176197</td>\n",
       "    </tr>\n",
       "    <tr>\n",
       "      <th>14</th>\n",
       "      <td>tomatoes</td>\n",
       "      <td>174311</td>\n",
       "    </tr>\n",
       "    <tr>\n",
       "      <th>15</th>\n",
       "      <td>baking powder</td>\n",
       "      <td>161099</td>\n",
       "    </tr>\n",
       "    <tr>\n",
       "      <th>16</th>\n",
       "      <td>lemon juice</td>\n",
       "      <td>155450</td>\n",
       "    </tr>\n",
       "    <tr>\n",
       "      <th>17</th>\n",
       "      <td>cinnamon</td>\n",
       "      <td>128618</td>\n",
       "    </tr>\n",
       "    <tr>\n",
       "      <th>18</th>\n",
       "      <td>sour cream</td>\n",
       "      <td>122731</td>\n",
       "    </tr>\n",
       "    <tr>\n",
       "      <th>19</th>\n",
       "      <td>cream cheese</td>\n",
       "      <td>121519</td>\n",
       "    </tr>\n",
       "  </tbody>\n",
       "</table>\n",
       "</div>"
      ],
      "text/plain": [
       "       ingredient  occurences\n",
       "0            salt     1013708\n",
       "1           sugar      662832\n",
       "2          butter      539978\n",
       "3           flour      488086\n",
       "4            eggs      422212\n",
       "5           onion      391268\n",
       "6          garlic      388187\n",
       "7            milk      370285\n",
       "8           water      351248\n",
       "9         vanilla      293879\n",
       "10      olive oil      227383\n",
       "11         pepper      193383\n",
       "12    brown sugar      187092\n",
       "13            egg      176197\n",
       "14       tomatoes      174311\n",
       "15  baking powder      161099\n",
       "16    lemon juice      155450\n",
       "17       cinnamon      128618\n",
       "18     sour cream      122731\n",
       "19   cream cheese      121519"
      ]
     },
     "execution_count": 12,
     "metadata": {},
     "output_type": "execute_result"
    }
   ],
   "source": [
    "ingredients.head(20)"
   ]
  },
  {
   "cell_type": "code",
   "execution_count": 13,
   "id": "4749dede-f7c3-4d92-9a0b-c42f52f47c17",
   "metadata": {},
   "outputs": [
    {
     "data": {
      "text/plain": [
       "199060"
      ]
     },
     "execution_count": 13,
     "metadata": {},
     "output_type": "execute_result"
    }
   ],
   "source": [
    "n_rows = ingredients.shape[0]\n",
    "n_rows"
   ]
  },
  {
   "cell_type": "markdown",
   "id": "2c54cfeb-20ac-413c-8dca-bb1c67ab9f28",
   "metadata": {},
   "source": [
    "Save that before we mess up something:"
   ]
  },
  {
   "cell_type": "code",
   "execution_count": 14,
   "id": "046e5f3c-a56c-41c4-9237-eb5abb088b4e",
   "metadata": {},
   "outputs": [],
   "source": [
    "ingredients.to_csv(\"most_common_ingredients.csv\")"
   ]
  },
  {
   "cell_type": "code",
   "execution_count": 15,
   "id": "bd1470c5-71b9-49e0-b9f0-f9a0cc406c23",
   "metadata": {},
   "outputs": [],
   "source": [
    "top_20 = ingredients_counter.most_common(20)"
   ]
  },
  {
   "cell_type": "code",
   "execution_count": 16,
   "id": "65351eaa-302c-463a-a152-ec836bc37c41",
   "metadata": {},
   "outputs": [],
   "source": [
    "most_common_keys = list(reversed([x[0] for x in top_20]))"
   ]
  },
  {
   "cell_type": "code",
   "execution_count": 17,
   "id": "e87ffe31-eeaf-4581-b1a2-0d66de8e88b9",
   "metadata": {},
   "outputs": [],
   "source": [
    "most_common_counts = list(reversed([x[1] for x in top_20]))"
   ]
  },
  {
   "cell_type": "code",
   "execution_count": 18,
   "id": "2d258bb8-e678-4afb-9793-3614cac55624",
   "metadata": {},
   "outputs": [
    {
     "data": {
      "image/png": "[encoded data removed]",
      "text/plain": [
       "<Figure size 640x480 with 1 Axes>"
      ]
     },
     "metadata": {},
     "output_type": "display_data"
    }
   ],
   "source": [
    "plt.barh(most_common_keys, most_common_counts)\n",
    "plt.show()"
   ]
  },
  {
   "cell_type": "code",
   "execution_count": 19,
   "id": "88a0b78e-964b-4b26-af94-ed825e20efaf",
   "metadata": {},
   "outputs": [],
   "source": [
    "#ingredients = pd.DataFrame.from_dict(ingredients_counter, orient='index').reset_index()"
   ]
  },
  {
   "cell_type": "code",
   "execution_count": 20,
   "id": "fcfb96d5-d4a7-4cd7-aa5e-5603a42bfcb9",
   "metadata": {},
   "outputs": [],
   "source": [
    "ingredients[\"frequency\"] = ingredients.occurences / n_rows"
   ]
  },
  {
   "cell_type": "code",
   "execution_count": 21,
   "id": "b94637a1-3638-43dc-a21c-8b70e90d3b65",
   "metadata": {},
   "outputs": [
    {
     "data": {
      "text/html": [
       "<div>\n",
       "<style scoped>\n",
       "    .dataframe tbody tr th:only-of-type {\n",
       "        vertical-align: middle;\n",
       "    }\n",
       "\n",
       "    .dataframe tbody tr th {\n",
       "        vertical-align: top;\n",
       "    }\n",
       "\n",
       "    .dataframe thead th {\n",
       "        text-align: right;\n",
       "    }\n",
       "</style>\n",
       "<table border=\"1\" class=\"dataframe\">\n",
       "  <thead>\n",
       "    <tr style=\"text-align: right;\">\n",
       "      <th></th>\n",
       "      <th>ingredient</th>\n",
       "      <th>occurences</th>\n",
       "      <th>frequency</th>\n",
       "    </tr>\n",
       "  </thead>\n",
       "  <tbody>\n",
       "    <tr>\n",
       "      <th>0</th>\n",
       "      <td>salt</td>\n",
       "      <td>1013708</td>\n",
       "      <td>5.092475</td>\n",
       "    </tr>\n",
       "    <tr>\n",
       "      <th>1</th>\n",
       "      <td>sugar</td>\n",
       "      <td>662832</td>\n",
       "      <td>3.329810</td>\n",
       "    </tr>\n",
       "    <tr>\n",
       "      <th>2</th>\n",
       "      <td>butter</td>\n",
       "      <td>539978</td>\n",
       "      <td>2.712639</td>\n",
       "    </tr>\n",
       "    <tr>\n",
       "      <th>3</th>\n",
       "      <td>flour</td>\n",
       "      <td>488086</td>\n",
       "      <td>2.451954</td>\n",
       "    </tr>\n",
       "    <tr>\n",
       "      <th>4</th>\n",
       "      <td>eggs</td>\n",
       "      <td>422212</td>\n",
       "      <td>2.121029</td>\n",
       "    </tr>\n",
       "    <tr>\n",
       "      <th>...</th>\n",
       "      <td>...</td>\n",
       "      <td>...</td>\n",
       "      <td>...</td>\n",
       "    </tr>\n",
       "    <tr>\n",
       "      <th>199055</th>\n",
       "      <td>fluid orville redenbachers</td>\n",
       "      <td>1</td>\n",
       "      <td>0.000005</td>\n",
       "    </tr>\n",
       "    <tr>\n",
       "      <th>199056</th>\n",
       "      <td>'s ricotta cheese</td>\n",
       "      <td>1</td>\n",
       "      <td>0.000005</td>\n",
       "    </tr>\n",
       "    <tr>\n",
       "      <th>199057</th>\n",
       "      <td>white string cheese</td>\n",
       "      <td>1</td>\n",
       "      <td>0.000005</td>\n",
       "    </tr>\n",
       "    <tr>\n",
       "      <th>199058</th>\n",
       "      <td>stone-grnd</td>\n",
       "      <td>1</td>\n",
       "      <td>0.000005</td>\n",
       "    </tr>\n",
       "    <tr>\n",
       "      <th>199059</th>\n",
       "      <td>five-cheese</td>\n",
       "      <td>1</td>\n",
       "      <td>0.000005</td>\n",
       "    </tr>\n",
       "  </tbody>\n",
       "</table>\n",
       "<p>199060 rows × 3 columns</p>\n",
       "</div>"
      ],
      "text/plain": [
       "                        ingredient  occurences  frequency\n",
       "0                             salt     1013708   5.092475\n",
       "1                            sugar      662832   3.329810\n",
       "2                           butter      539978   2.712639\n",
       "3                            flour      488086   2.451954\n",
       "4                             eggs      422212   2.121029\n",
       "...                            ...         ...        ...\n",
       "199055  fluid orville redenbachers           1   0.000005\n",
       "199056           's ricotta cheese           1   0.000005\n",
       "199057         white string cheese           1   0.000005\n",
       "199058                  stone-grnd           1   0.000005\n",
       "199059                 five-cheese           1   0.000005\n",
       "\n",
       "[199060 rows x 3 columns]"
      ]
     },
     "execution_count": 21,
     "metadata": {},
     "output_type": "execute_result"
    }
   ],
   "source": [
    "ingredients"
   ]
  },
  {
   "cell_type": "code",
   "execution_count": null,
   "id": "1020b2d3-113c-47c3-9c84-9f9c0d784ac4",
   "metadata": {},
   "outputs": [],
   "source": []
  },
  {
   "cell_type": "code",
   "execution_count": null,
   "id": "a57480e6-3b96-45d4-9f5a-0dfd8ada12f3",
   "metadata": {},
   "outputs": [],
   "source": []
  },
  {
   "cell_type": "code",
   "execution_count": null,
   "id": "093e6366-12d0-428e-8473-bdcbd2db79c6",
   "metadata": {},
   "outputs": [],
   "source": []
  },
  {
   "cell_type": "code",
   "execution_count": 23,
   "id": "a93fd750-72a2-4cce-9eb5-9873dcba9c4d",
   "metadata": {},
   "outputs": [],
   "source": [
    "ingredients[\"name_word_list\"] = ingredients.ingredient.str.split(\" \")"
   ]
  },
  {
   "cell_type": "code",
   "execution_count": 24,
   "id": "861a6727-2025-42dc-b700-b9867ba98a7c",
   "metadata": {
    "scrolled": true
   },
   "outputs": [
    {
     "data": {
      "text/html": [
       "<div>\n",
       "<style scoped>\n",
       "    .dataframe tbody tr th:only-of-type {\n",
       "        vertical-align: middle;\n",
       "    }\n",
       "\n",
       "    .dataframe tbody tr th {\n",
       "        vertical-align: top;\n",
       "    }\n",
       "\n",
       "    .dataframe thead th {\n",
       "        text-align: right;\n",
       "    }\n",
       "</style>\n",
       "<table border=\"1\" class=\"dataframe\">\n",
       "  <thead>\n",
       "    <tr style=\"text-align: right;\">\n",
       "      <th></th>\n",
       "      <th>ingredient</th>\n",
       "      <th>occurences</th>\n",
       "      <th>frequency</th>\n",
       "      <th>name_word_list</th>\n",
       "    </tr>\n",
       "  </thead>\n",
       "  <tbody>\n",
       "    <tr>\n",
       "      <th>0</th>\n",
       "      <td>salt</td>\n",
       "      <td>1013708</td>\n",
       "      <td>5.092475</td>\n",
       "      <td>[salt]</td>\n",
       "    </tr>\n",
       "    <tr>\n",
       "      <th>1</th>\n",
       "      <td>sugar</td>\n",
       "      <td>662832</td>\n",
       "      <td>3.329810</td>\n",
       "      <td>[sugar]</td>\n",
       "    </tr>\n",
       "    <tr>\n",
       "      <th>2</th>\n",
       "      <td>butter</td>\n",
       "      <td>539978</td>\n",
       "      <td>2.712639</td>\n",
       "      <td>[butter]</td>\n",
       "    </tr>\n",
       "    <tr>\n",
       "      <th>3</th>\n",
       "      <td>flour</td>\n",
       "      <td>488086</td>\n",
       "      <td>2.451954</td>\n",
       "      <td>[flour]</td>\n",
       "    </tr>\n",
       "    <tr>\n",
       "      <th>4</th>\n",
       "      <td>eggs</td>\n",
       "      <td>422212</td>\n",
       "      <td>2.121029</td>\n",
       "      <td>[eggs]</td>\n",
       "    </tr>\n",
       "    <tr>\n",
       "      <th>...</th>\n",
       "      <td>...</td>\n",
       "      <td>...</td>\n",
       "      <td>...</td>\n",
       "      <td>...</td>\n",
       "    </tr>\n",
       "    <tr>\n",
       "      <th>199055</th>\n",
       "      <td>fluid orville redenbachers</td>\n",
       "      <td>1</td>\n",
       "      <td>0.000005</td>\n",
       "      <td>[fluid, orville, redenbachers]</td>\n",
       "    </tr>\n",
       "    <tr>\n",
       "      <th>199056</th>\n",
       "      <td>'s ricotta cheese</td>\n",
       "      <td>1</td>\n",
       "      <td>0.000005</td>\n",
       "      <td>['s, ricotta, cheese]</td>\n",
       "    </tr>\n",
       "    <tr>\n",
       "      <th>199057</th>\n",
       "      <td>white string cheese</td>\n",
       "      <td>1</td>\n",
       "      <td>0.000005</td>\n",
       "      <td>[white, string, cheese]</td>\n",
       "    </tr>\n",
       "    <tr>\n",
       "      <th>199058</th>\n",
       "      <td>stone-grnd</td>\n",
       "      <td>1</td>\n",
       "      <td>0.000005</td>\n",
       "      <td>[stone-grnd]</td>\n",
       "    </tr>\n",
       "    <tr>\n",
       "      <th>199059</th>\n",
       "      <td>five-cheese</td>\n",
       "      <td>1</td>\n",
       "      <td>0.000005</td>\n",
       "      <td>[five-cheese]</td>\n",
       "    </tr>\n",
       "  </tbody>\n",
       "</table>\n",
       "<p>199060 rows × 4 columns</p>\n",
       "</div>"
      ],
      "text/plain": [
       "                        ingredient  occurences  frequency  \\\n",
       "0                             salt     1013708   5.092475   \n",
       "1                            sugar      662832   3.329810   \n",
       "2                           butter      539978   2.712639   \n",
       "3                            flour      488086   2.451954   \n",
       "4                             eggs      422212   2.121029   \n",
       "...                            ...         ...        ...   \n",
       "199055  fluid orville redenbachers           1   0.000005   \n",
       "199056           's ricotta cheese           1   0.000005   \n",
       "199057         white string cheese           1   0.000005   \n",
       "199058                  stone-grnd           1   0.000005   \n",
       "199059                 five-cheese           1   0.000005   \n",
       "\n",
       "                        name_word_list  \n",
       "0                               [salt]  \n",
       "1                              [sugar]  \n",
       "2                             [butter]  \n",
       "3                              [flour]  \n",
       "4                               [eggs]  \n",
       "...                                ...  \n",
       "199055  [fluid, orville, redenbachers]  \n",
       "199056           ['s, ricotta, cheese]  \n",
       "199057         [white, string, cheese]  \n",
       "199058                    [stone-grnd]  \n",
       "199059                   [five-cheese]  \n",
       "\n",
       "[199060 rows x 4 columns]"
      ]
     },
     "execution_count": 24,
     "metadata": {},
     "output_type": "execute_result"
    }
   ],
   "source": [
    "ingredients"
   ]
  },
  {
   "cell_type": "code",
   "execution_count": 29,
   "id": "76cfc1ef-39f1-44a7-8810-a03bce8316cd",
   "metadata": {},
   "outputs": [],
   "source": [
    "test_ingredients = ingredients[:5]"
   ]
  },
  {
   "cell_type": "code",
   "execution_count": 30,
   "id": "c48a2e75-b78b-4be2-914a-9dff9c5c902e",
   "metadata": {},
   "outputs": [
    {
     "data": {
      "text/html": [
       "<div>\n",
       "<style scoped>\n",
       "    .dataframe tbody tr th:only-of-type {\n",
       "        vertical-align: middle;\n",
       "    }\n",
       "\n",
       "    .dataframe tbody tr th {\n",
       "        vertical-align: top;\n",
       "    }\n",
       "\n",
       "    .dataframe thead th {\n",
       "        text-align: right;\n",
       "    }\n",
       "</style>\n",
       "<table border=\"1\" class=\"dataframe\">\n",
       "  <thead>\n",
       "    <tr style=\"text-align: right;\">\n",
       "      <th></th>\n",
       "      <th>butter</th>\n",
       "      <th>eggs</th>\n",
       "      <th>flour</th>\n",
       "      <th>salt</th>\n",
       "      <th>sugar</th>\n",
       "    </tr>\n",
       "  </thead>\n",
       "  <tbody>\n",
       "    <tr>\n",
       "      <th>0</th>\n",
       "      <td>0</td>\n",
       "      <td>0</td>\n",
       "      <td>0</td>\n",
       "      <td>1</td>\n",
       "      <td>0</td>\n",
       "    </tr>\n",
       "    <tr>\n",
       "      <th>1</th>\n",
       "      <td>0</td>\n",
       "      <td>0</td>\n",
       "      <td>0</td>\n",
       "      <td>0</td>\n",
       "      <td>1</td>\n",
       "    </tr>\n",
       "    <tr>\n",
       "      <th>2</th>\n",
       "      <td>1</td>\n",
       "      <td>0</td>\n",
       "      <td>0</td>\n",
       "      <td>0</td>\n",
       "      <td>0</td>\n",
       "    </tr>\n",
       "    <tr>\n",
       "      <th>3</th>\n",
       "      <td>0</td>\n",
       "      <td>0</td>\n",
       "      <td>1</td>\n",
       "      <td>0</td>\n",
       "      <td>0</td>\n",
       "    </tr>\n",
       "    <tr>\n",
       "      <th>4</th>\n",
       "      <td>0</td>\n",
       "      <td>1</td>\n",
       "      <td>0</td>\n",
       "      <td>0</td>\n",
       "      <td>0</td>\n",
       "    </tr>\n",
       "  </tbody>\n",
       "</table>\n",
       "</div>"
      ],
      "text/plain": [
       "   butter  eggs  flour  salt  sugar\n",
       "0       0     0      0     1      0\n",
       "1       0     0      0     0      1\n",
       "2       1     0      0     0      0\n",
       "3       0     0      1     0      0\n",
       "4       0     1      0     0      0"
      ]
     },
     "execution_count": 30,
     "metadata": {},
     "output_type": "execute_result"
    }
   ],
   "source": [
    "test_ingredients.name_word_list.str.join('|').str.get_dummies()"
   ]
  },
  {
   "cell_type": "code",
   "execution_count": null,
   "id": "489315c0-cfa9-4990-8848-10a08bc8644b",
   "metadata": {},
   "outputs": [],
   "source": []
  }
 ],
 "metadata": {
  "kernelspec": {
   "display_name": "Python 3 (ipykernel)",
   "language": "python",
   "name": "python3"
  },
  "language_info": {
   "codemirror_mode": {
    "name": "ipython",
    "version": 3
   },
   "file_extension": ".py",
   "mimetype": "text/x-python",
   "name": "python",
   "nbconvert_exporter": "python",
   "pygments_lexer": "ipython3",
   "version": "3.9.15"
  }
 },
 "nbformat": 4,
 "nbformat_minor": 5
}
